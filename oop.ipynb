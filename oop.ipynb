{
 "cells": [
  {
   "cell_type": "code",
   "execution_count": null,
   "id": "de128e08",
   "metadata": {},
   "outputs": [],
   "source": [
    "# class <class_name>:\n",
    "#     <methods>\n",
    "    \n",
    "# <class_name>()"
   ]
  },
  {
   "cell_type": "code",
   "execution_count": 1,
   "id": "853275a9",
   "metadata": {},
   "outputs": [
    {
     "name": "stdout",
     "output_type": "stream",
     "text": [
      "Hello World\n"
     ]
    },
    {
     "data": {
      "text/plain": [
       "<__main__.Hello at 0x16923bb51c0>"
      ]
     },
     "execution_count": 1,
     "metadata": {},
     "output_type": "execute_result"
    }
   ],
   "source": [
    "class Hello:\n",
    "    print(\"Hello World\")\n",
    "Hello()"
   ]
  },
  {
   "cell_type": "code",
   "execution_count": 2,
   "id": "474e44af",
   "metadata": {},
   "outputs": [
    {
     "name": "stdout",
     "output_type": "stream",
     "text": [
      "Hello World\n"
     ]
    }
   ],
   "source": [
    "class Hello:\n",
    "    print(\"Hello World\")\n",
    "obj = Hello()"
   ]
  },
  {
   "cell_type": "code",
   "execution_count": 4,
   "id": "b98afcb3",
   "metadata": {},
   "outputs": [
    {
     "name": "stdout",
     "output_type": "stream",
     "text": [
      "Hello World\n"
     ]
    }
   ],
   "source": [
    "class Hello:\n",
    "    def hello(self):\n",
    "        print(\"Hello World\")\n",
    "obj = Hello()\n",
    "obj.hello()"
   ]
  },
  {
   "cell_type": "code",
   "execution_count": 8,
   "id": "5a19835b",
   "metadata": {},
   "outputs": [
    {
     "name": "stdout",
     "output_type": "stream",
     "text": [
      "40\n"
     ]
    }
   ],
   "source": [
    "class Area():\n",
    "    def area(self):\n",
    "        l = 10\n",
    "        b = 4\n",
    "        print(l*b)\n",
    "obj = Area()\n",
    "obj.area()"
   ]
  },
  {
   "cell_type": "code",
   "execution_count": 7,
   "id": "8a573e8a",
   "metadata": {},
   "outputs": [
    {
     "name": "stdout",
     "output_type": "stream",
     "text": [
      "Enter l=2\n",
      "Enter b=3\n",
      "6\n"
     ]
    }
   ],
   "source": [
    "class Area():\n",
    "    def area(self,l,b):\n",
    "        print(l*b)\n",
    "        \n",
    "l = int(input(\"Enter l=\"))\n",
    "b = int(input(\"Enter b=\"))\n",
    "obj = Area()\n",
    "obj.area(l,b)"
   ]
  },
  {
   "cell_type": "code",
   "execution_count": 9,
   "id": "2d4dba34",
   "metadata": {},
   "outputs": [
    {
     "name": "stdout",
     "output_type": "stream",
     "text": [
      "Enter l=3\n",
      "Enter b=4\n",
      "Enter h=5\n",
      "12\n",
      "60\n"
     ]
    }
   ],
   "source": [
    "class Cal():\n",
    "    def area(self,l,b):\n",
    "        print(l*b)\n",
    "    def volume(self,l,b,h):\n",
    "        print(l*b*h)\n",
    "        \n",
    "l = int(input(\"Enter l=\"))\n",
    "b = int(input(\"Enter b=\"))\n",
    "h = int(input(\"Enter h=\"))\n",
    "\n",
    "obj = Cal()\n",
    "obj.area(l,b)\n",
    "obj.volume(l,b,h)"
   ]
  },
  {
   "cell_type": "code",
   "execution_count": 10,
   "id": "11c85b18",
   "metadata": {},
   "outputs": [
    {
     "name": "stdout",
     "output_type": "stream",
     "text": [
      "Enter l=4\n",
      "Enter b=5\n",
      "20\n"
     ]
    }
   ],
   "source": [
    "class Area():\n",
    "    def __init__(self,l,b):\n",
    "        self.l = l\n",
    "        self.b = b\n",
    "    def area(self):\n",
    "        print(self.l*self.b)\n",
    "        \n",
    "l = int(input(\"Enter l=\"))\n",
    "b = int(input(\"Enter b=\"))\n",
    "obj = Area(l,b)\n",
    "obj.area()"
   ]
  },
  {
   "cell_type": "code",
   "execution_count": 11,
   "id": "8c3331ad",
   "metadata": {},
   "outputs": [
    {
     "name": "stdout",
     "output_type": "stream",
     "text": [
      "Enter l=3\n",
      "Enter b=4\n",
      "Enter h=5\n",
      "12\n",
      "60\n"
     ]
    }
   ],
   "source": [
    "class Cal():\n",
    "    def __init__(self,l,b,h):\n",
    "        self.l = l\n",
    "        self.b = b\n",
    "        self.h = h\n",
    "    def area(self):\n",
    "        print(self.l*self.b)\n",
    "    def volume(self):\n",
    "        print(self.l*self.b*self.h)\n",
    "        \n",
    "l = int(input(\"Enter l=\"))\n",
    "b = int(input(\"Enter b=\"))\n",
    "h = int(input(\"Enter h=\"))\n",
    "obj = Cal(l,b,h)\n",
    "obj.area()\n",
    "obj.volume()"
   ]
  },
  {
   "cell_type": "code",
   "execution_count": 12,
   "id": "f9c03ab1",
   "metadata": {},
   "outputs": [
    {
     "name": "stdout",
     "output_type": "stream",
     "text": [
      "Enter l=3\n",
      "Enter b=4\n",
      "Enter h=5\n",
      "12\n",
      "60\n"
     ]
    }
   ],
   "source": [
    "class Cal():\n",
    "    def __init__(self,l,b):\n",
    "        self.l = l\n",
    "        self.b = b\n",
    "        \n",
    "    def area(self):\n",
    "        print(self.l*self.b)\n",
    "    def volume(self,h):\n",
    "        print(self.l*self.b*h)\n",
    "        \n",
    "l = int(input(\"Enter l=\"))\n",
    "b = int(input(\"Enter b=\"))\n",
    "h = int(input(\"Enter h=\"))\n",
    "obj = Cal(l,b)\n",
    "obj.area()\n",
    "obj.volume(h)"
   ]
  },
  {
   "cell_type": "code",
   "execution_count": 17,
   "id": "7177d65c",
   "metadata": {},
   "outputs": [
    {
     "name": "stdout",
     "output_type": "stream",
     "text": [
      "Enter l=4\n",
      "Enter b=5\n",
      "Enter h=6\n",
      "20\n",
      "20\n",
      "20\n"
     ]
    },
    {
     "data": {
      "text/plain": [
       "__main__.Cal"
      ]
     },
     "execution_count": 17,
     "metadata": {},
     "output_type": "execute_result"
    }
   ],
   "source": [
    "#__str__method ...........string ko form ma hunx\n",
    "\n",
    "class Cal():\n",
    "    def __init__(self,l,b):\n",
    "        self.l = l\n",
    "        self.b = b\n",
    "      \n",
    "    def __str__(self):\n",
    "        a = self.l*self.b\n",
    "        return str(a)\n",
    "\n",
    "l = int(input(\"Enter l=\"))\n",
    "b = int(input(\"Enter b=\"))\n",
    "h = int(input(\"Enter h=\"))\n",
    "obj = Cal(l,b)\n",
    "print(obj)\n",
    "print(obj.__str__())\n",
    "print(str(obj))\n",
    "type(obj)"
   ]
  },
  {
   "cell_type": "code",
   "execution_count": 18,
   "id": "14711b4d",
   "metadata": {},
   "outputs": [
    {
     "name": "stdout",
     "output_type": "stream",
     "text": [
      "Enter l=5\n",
      "Enter b=6\n",
      "Enter h=7\n",
      "{30, 'Area'}\n"
     ]
    }
   ],
   "source": [
    "#__repr__()method.......dictionary,tuple list return\n",
    "#__str__method ...........string ko form ma hunx\n",
    "\n",
    "class Cal():\n",
    "    def __init__(self,l,b):\n",
    "        self.l = l\n",
    "        self.b = b\n",
    "      \n",
    "    def __repr__(self):\n",
    "        a = self.l*self.b\n",
    "        return {\"Area\",a}\n",
    "\n",
    "l = int(input(\"Enter l=\"))\n",
    "b = int(input(\"Enter b=\"))\n",
    "h = int(input(\"Enter h=\"))\n",
    "obj = Cal(l,b)\n",
    "print(obj.__repr__())"
   ]
  },
  {
   "cell_type": "code",
   "execution_count": 20,
   "id": "1282a460",
   "metadata": {},
   "outputs": [
    {
     "name": "stdout",
     "output_type": "stream",
     "text": [
      "(1,5)\n"
     ]
    }
   ],
   "source": [
    "#Operator Overloading\n",
    "\n",
    "#__str__method ...........string ko form ma hunx\n",
    "\n",
    "class Point():\n",
    "    def __init__(self,x=0,y=0):\n",
    "        self.x = x\n",
    "        self.y = y\n",
    "      \n",
    "    def __str__(self):\n",
    "        return f\"({self.x},{self.y})\"\n",
    "    \n",
    "    def __add__(self,other):\n",
    "        x = self.x + other.x\n",
    "        y = self.y + other.y\n",
    "        return Point(x,y)\n",
    "    \n",
    "p1 = Point(2,3)\n",
    "p2 = Point(-1,2)\n",
    "print(p1+p2)\n",
    "\n"
   ]
  },
  {
   "cell_type": "code",
   "execution_count": 21,
   "id": "150124ea",
   "metadata": {},
   "outputs": [
    {
     "name": "stdout",
     "output_type": "stream",
     "text": [
      "This is init method 2 3\n",
      "This is init method -1 2\n",
      "This is add method 1 5\n",
      "This is init method 1 5\n",
      "This is str method 1 5\n",
      "(1,5)\n"
     ]
    }
   ],
   "source": [
    "class Point():\n",
    "    def __init__(self,x=0,y=0):\n",
    "        self.x = x\n",
    "        self.y = y\n",
    "        print(\"This is init method\", self.x , self.y)\n",
    "      \n",
    "    def __str__(self):\n",
    "        print(\"This is str method\", self.x , self.y)\n",
    "        return f\"({self.x},{self.y})\"\n",
    "    \n",
    "    def __add__(self,other):\n",
    "        x = self.x + other.x\n",
    "        y = self.y + other.y\n",
    "        print(\"This is add method\", x , y)\n",
    "        return Point(x,y)\n",
    "    \n",
    "p1 = Point(2,3)\n",
    "p2 = Point(-1,2)\n",
    "print(p1+p2)"
   ]
  },
  {
   "cell_type": "code",
   "execution_count": 22,
   "id": "904dd8e6",
   "metadata": {},
   "outputs": [
    {
     "name": "stdout",
     "output_type": "stream",
     "text": [
      "This is init method 1000\n",
      "This is init method 2000\n",
      "This is init method 2500\n",
      "This is add method 3000\n",
      "This is init method 3000\n",
      "This is add method 5500\n",
      "This is init method 5500\n",
      "This is str method 5500\n",
      "(5500)\n"
     ]
    }
   ],
   "source": [
    "class Point():\n",
    "    def __init__(self,x=0):\n",
    "        self.x = x\n",
    "        print(\"This is init method\", self.x)\n",
    "      \n",
    "    def __str__(self):\n",
    "        print(\"This is str method\", self.x)\n",
    "        return f\"({self.x})\"\n",
    "    \n",
    "    def __add__(self,other):\n",
    "        x = self.x + other.x\n",
    "        print(\"This is add method\", x)\n",
    "        return Point(x)\n",
    "    \n",
    "p1 = Point(1000)\n",
    "p2 = Point(2000)\n",
    "p3 = Point(2500)\n",
    "print(p1+p2+p3)"
   ]
  }
 ],
 "metadata": {
  "kernelspec": {
   "display_name": "Python 3",
   "language": "python",
   "name": "python3"
  },
  "language_info": {
   "codemirror_mode": {
    "name": "ipython",
    "version": 3
   },
   "file_extension": ".py",
   "mimetype": "text/x-python",
   "name": "python",
   "nbconvert_exporter": "python",
   "pygments_lexer": "ipython3",
   "version": "3.8.8"
  }
 },
 "nbformat": 4,
 "nbformat_minor": 5
}
