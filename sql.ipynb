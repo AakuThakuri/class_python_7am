{
 "cells": [
  {
   "cell_type": "code",
   "execution_count": 26,
   "id": "83619ab8",
   "metadata": {},
   "outputs": [],
   "source": [
    "import mysql.connector\n",
    "#importing databe\n",
    "database = mysql.connector.connect(\n",
    "    host = \"localhost\",\n",
    "    user=\"root\",\n",
    "    password=\"\",\n",
    "    database=\"class12pm\"\n",
    ")\n",
    "db = database.cursor()"
   ]
  },
  {
   "cell_type": "code",
   "execution_count": null,
   "id": "8575943b",
   "metadata": {},
   "outputs": [],
   "source": []
  },
  {
   "cell_type": "code",
   "execution_count": 27,
   "id": "998eae0e",
   "metadata": {},
   "outputs": [
    {
     "name": "stdout",
     "output_type": "stream",
     "text": [
      "(1, 'Ram', 985678976, 'yes', datetime.datetime(2021, 7, 5, 17, 34, 44))\n",
      "(2, 'Hari', 987654324, 'yes', datetime.datetime(2021, 7, 5, 17, 34, 44))\n",
      "(3, 'Shyam', 985432456, 'yes', datetime.datetime(2021, 7, 5, 17, 35, 24))\n",
      "(4, 'Sita', 987654325, 'yes', datetime.datetime(2021, 7, 5, 17, 36, 49))\n",
      "(5, 'Gita', 986754327, 'no', datetime.datetime(2021, 7, 5, 17, 36, 49))\n"
     ]
    }
   ],
   "source": [
    "#selecting data from databse\n",
    "db.execute(\"SELECT * FROM account\")\n",
    "result = db.fetchall()\n",
    "for x in result:\n",
    "    print(x)"
   ]
  },
  {
   "cell_type": "code",
   "execution_count": 28,
   "id": "bf3c53c9",
   "metadata": {},
   "outputs": [
    {
     "name": "stdout",
     "output_type": "stream",
     "text": [
      "(1, 'Ram', 985678976)\n",
      "(2, 'Hari', 987654324)\n",
      "(3, 'Shyam', 985432456)\n",
      "(4, 'Sita', 987654325)\n",
      "(5, 'Gita', 986754327)\n"
     ]
    }
   ],
   "source": [
    "db.execute(\"SELECT id,name,phone FROM account\")\n",
    "result = db.fetchall()\n",
    "for x in result:\n",
    "    print(x)"
   ]
  },
  {
   "cell_type": "code",
   "execution_count": 16,
   "id": "565e1a4f",
   "metadata": {},
   "outputs": [],
   "source": [
    "import mysql.connector\n",
    "#importing databe\n",
    "database = mysql.connector.connect(\n",
    "    host = \"localhost\",\n",
    "    user=\"root\",\n",
    "    password=\"\",\n",
    "    database=\"class12pm\"\n",
    ")\n",
    "db = database.cursor()"
   ]
  },
  {
   "cell_type": "code",
   "execution_count": 17,
   "id": "627f471a",
   "metadata": {
    "scrolled": false
   },
   "outputs": [
    {
     "name": "stdout",
     "output_type": "stream",
     "text": [
      "(1, 'Buff Chilli', 'Nepali', Decimal('300'), b'', 'Non Veg Snacks')\n",
      "(2, 'Chips Chilli', 'Nepali', Decimal('180'), b'', 'Veg Snacks')\n",
      "(3, 'Chicken Chilli', 'Nepali', Decimal('300'), b'', 'Non Veg Snacks')\n",
      "(4, 'Veg Sandwich', 'Western', Decimal('150'), b'', 'Sandwich')\n",
      "(5, 'Non Veg Sandwich', 'Western', Decimal('150'), b'', 'Sandwich')\n",
      "(6, 'Chicken  Wings', 'Nepali', Decimal('350'), b'', 'Non Veg Snacks')\n",
      "(7, 'Chicken Drumsticks', 'Nepali', Decimal('200'), b'', 'No Veg Snacks')\n"
     ]
    }
   ],
   "source": [
    "#selecting data from databse\n",
    "db.execute(\"SELECT * FROM food\")\n",
    "result = db.fetchall()\n",
    "for x in result:\n",
    "    print(x)"
   ]
  },
  {
   "cell_type": "code",
   "execution_count": 21,
   "id": "d3915aa1",
   "metadata": {},
   "outputs": [],
   "source": [
    "import mysql.connector\n",
    "#importing databe\n",
    "database = mysql.connector.connect(\n",
    "    host = \"localhost\",\n",
    "    user=\"root\",\n",
    "    password=\"\",\n",
    "    database=\"class12pm\"\n",
    ")\n",
    "db = database.cursor()"
   ]
  },
  {
   "cell_type": "code",
   "execution_count": 30,
   "id": "4b73aa7b",
   "metadata": {},
   "outputs": [
    {
     "name": "stdout",
     "output_type": "stream",
     "text": [
      "enter name =Rita\n",
      "Enter phone=9876543245\n",
      "Enter yes or no =yes\n",
      "Enter total =500\n"
     ]
    }
   ],
   "source": [
    "import mysql.connector\n",
    "#importing databe\n",
    "database = mysql.connector.connect(\n",
    "    host = \"localhost\",\n",
    "    user=\"root\",\n",
    "    password=\"\",\n",
    "    database=\"class12pm\"\n",
    ")\n",
    "db = database.cursor()\n",
    "\n",
    "name = input(\"enter name =\")\n",
    "phone = int(input(\"Enter phone=\"))\n",
    "payment = input(\"Enter yes or no =\")\n",
    "total = int(input(\"Enter total =\"))\n",
    "\n",
    "sql = f\"INSERT INTO account(name,phone,payment,total) VALUES('{name}',{phone},'{payment}',{total})\"\n",
    "db.execute(sql)\n",
    "database.commit()\n"
   ]
  },
  {
   "cell_type": "code",
   "execution_count": 31,
   "id": "120b9192",
   "metadata": {},
   "outputs": [
    {
     "name": "stdout",
     "output_type": "stream",
     "text": [
      "enter id =6\n",
      "Enter phone=988888888\n"
     ]
    }
   ],
   "source": [
    "import mysql.connector\n",
    "#importing databe\n",
    "database = mysql.connector.connect(\n",
    "    host = \"localhost\",\n",
    "    user=\"root\",\n",
    "    password=\"\",\n",
    "    database=\"class12pm\"\n",
    ")\n",
    "db = database.cursor()\n",
    "\n",
    "ids = input(\"enter id =\")\n",
    "phone = int(input(\"Enter phone=\"))\n",
    "\n",
    "\n",
    "sql = f\"UPDATE account SET phone={phone} WHERE id={ids}\"\n",
    "db.execute(sql)\n",
    "database.commit()\n"
   ]
  },
  {
   "cell_type": "code",
   "execution_count": 32,
   "id": "cf76b594",
   "metadata": {},
   "outputs": [
    {
     "name": "stdout",
     "output_type": "stream",
     "text": [
      "enter id =6\n"
     ]
    }
   ],
   "source": [
    "import mysql.connector\n",
    "#importing databe\n",
    "database = mysql.connector.connect(\n",
    "    host = \"localhost\",\n",
    "    user=\"root\",\n",
    "    password=\"\",\n",
    "    database=\"class12pm\"\n",
    ")\n",
    "db = database.cursor()\n",
    "\n",
    "ids = input(\"enter id =\")\n",
    "\n",
    "sql = f\"DELETE FROM account WHERE id ={ids}\"\n",
    "db.execute(sql)\n",
    "database.commit()\n"
   ]
  },
  {
   "cell_type": "code",
   "execution_count": null,
   "id": "d150b03d",
   "metadata": {},
   "outputs": [],
   "source": [
    "#"
   ]
  }
 ],
 "metadata": {
  "kernelspec": {
   "display_name": "Python 3",
   "language": "python",
   "name": "python3"
  },
  "language_info": {
   "codemirror_mode": {
    "name": "ipython",
    "version": 3
   },
   "file_extension": ".py",
   "mimetype": "text/x-python",
   "name": "python",
   "nbconvert_exporter": "python",
   "pygments_lexer": "ipython3",
   "version": "3.8.8"
  }
 },
 "nbformat": 4,
 "nbformat_minor": 5
}
