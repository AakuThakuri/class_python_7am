{
 "cells": [
  {
   "cell_type": "code",
   "execution_count": null,
   "id": "0acd8b88",
   "metadata": {},
   "outputs": [],
   "source": [
    "# f = open('<file_name>','<mode>')"
   ]
  },
  {
   "cell_type": "code",
   "execution_count": 1,
   "id": "1b96b21f",
   "metadata": {},
   "outputs": [],
   "source": [
    "f = open('data.txt', 'x')\n",
    "f.close()"
   ]
  },
  {
   "cell_type": "code",
   "execution_count": 1,
   "id": "49166977",
   "metadata": {},
   "outputs": [
    {
     "name": "stdout",
     "output_type": "stream",
     "text": [
      "1.Hello World\n",
      "2.Hello World\n",
      "3.Hello World\n",
      "4.Hello World\n",
      "5.Hello World\n",
      "6.Hello World\n",
      "7.Hello World\n"
     ]
    }
   ],
   "source": [
    "f = open('data.txt','r')\n",
    "print(f.read())                 #certain file lai read grna paryo vane\n",
    "f.close()"
   ]
  },
  {
   "cell_type": "code",
   "execution_count": 2,
   "id": "1da475ff",
   "metadata": {},
   "outputs": [
    {
     "name": "stdout",
     "output_type": "stream",
     "text": [
      "1.Hello World\n",
      "\n"
     ]
    }
   ],
   "source": [
    "f = open('data.txt','r')\n",
    "print(f.readline())      #firstline read garx\n",
    "f.close()"
   ]
  },
  {
   "cell_type": "code",
   "execution_count": 3,
   "id": "f05f3517",
   "metadata": {},
   "outputs": [
    {
     "name": "stdout",
     "output_type": "stream",
     "text": [
      "1.Hello Wo\n"
     ]
    }
   ],
   "source": [
    "f = open('data.txt','r')\n",
    "print(f.read(10))          #character read garxa\n",
    "f.close()"
   ]
  },
  {
   "cell_type": "code",
   "execution_count": 4,
   "id": "5acdd048",
   "metadata": {},
   "outputs": [
    {
     "name": "stdout",
     "output_type": "stream",
     "text": [
      "2.Hello World\n",
      "\n"
     ]
    }
   ],
   "source": [
    "f = open('data.txt','r')\n",
    "f.readline()                 #2nd line print hunx\n",
    "print(f.readline())\n",
    "f.close()"
   ]
  },
  {
   "cell_type": "code",
   "execution_count": null,
   "id": "0d354ffe",
   "metadata": {},
   "outputs": [],
   "source": [
    "f = open('data.txt','r')\n",
    "n = int(input(\"enter n=\"))\n",
    "total_line = 7\n",
    "for i in range(n):\n",
    "    if \n",
    "f.readline()\n",
    "print(f.readline())\n",
    "f.close()"
   ]
  },
  {
   "cell_type": "code",
   "execution_count": 6,
   "id": "e041ec9b",
   "metadata": {},
   "outputs": [
    {
     "name": "stdout",
     "output_type": "stream",
     "text": [
      "1.hello world\n",
      "2.hello world\n",
      "3.hello world\n",
      "4.hello world\n",
      "\n",
      "<class 'str'>\n"
     ]
    }
   ],
   "source": [
    "f = open('data.txt','r')\n",
    "b = f.read()\n",
    "print(b)\n",
    "print(type(b))\n",
    "f.close()"
   ]
  },
  {
   "cell_type": "code",
   "execution_count": 7,
   "id": "2adb58f3",
   "metadata": {},
   "outputs": [
    {
     "data": {
      "text/plain": [
       "['1.hello world', '2.hello world', '3.hello world', '4.hello world', '']"
      ]
     },
     "execution_count": 7,
     "metadata": {},
     "output_type": "execute_result"
    }
   ],
   "source": [
    "b.split('\\n')"
   ]
  },
  {
   "cell_type": "code",
   "execution_count": 8,
   "id": "046ffebe",
   "metadata": {},
   "outputs": [],
   "source": [
    "f = open('data.txt', 'w')\n",
    "f.write('Hello World')\n",
    "f.close()"
   ]
  },
  {
   "cell_type": "code",
   "execution_count": null,
   "id": "0f971b3d",
   "metadata": {},
   "outputs": [],
   "source": []
  }
 ],
 "metadata": {
  "kernelspec": {
   "display_name": "Python 3",
   "language": "python",
   "name": "python3"
  },
  "language_info": {
   "codemirror_mode": {
    "name": "ipython",
    "version": 3
   },
   "file_extension": ".py",
   "mimetype": "text/x-python",
   "name": "python",
   "nbconvert_exporter": "python",
   "pygments_lexer": "ipython3",
   "version": "3.8.8"
  }
 },
 "nbformat": 4,
 "nbformat_minor": 5
}
