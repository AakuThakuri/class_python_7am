{
 "cells": [
  {
   "cell_type": "code",
   "execution_count": null,
   "id": "025abc03",
   "metadata": {},
   "outputs": [],
   "source": [
    "# tuple\n",
    "# -indexing\n",
    "# -duplicate member\n",
    "# -ordered\n",
    "# -imutable"
   ]
  },
  {
   "cell_type": "code",
   "execution_count": 1,
   "id": "71879b3e",
   "metadata": {},
   "outputs": [
    {
     "name": "stdout",
     "output_type": "stream",
     "text": [
      "(1, 2, 3, 4)\n",
      "('Apple', 'Ball', 'Cat')\n"
     ]
    },
    {
     "data": {
      "text/plain": [
       "tuple"
      ]
     },
     "execution_count": 1,
     "metadata": {},
     "output_type": "execute_result"
    }
   ],
   "source": [
    "b=(\"Apple\",\"Ball\",\"Cat\")\n",
    "a=(1,2,3,4)\n",
    "print(a)\n",
    "print(b)\n",
    "type(a)"
   ]
  },
  {
   "cell_type": "code",
   "execution_count": 2,
   "id": "96a016ea",
   "metadata": {},
   "outputs": [
    {
     "data": {
      "text/plain": [
       "str"
      ]
     },
     "execution_count": 2,
     "metadata": {},
     "output_type": "execute_result"
    }
   ],
   "source": [
    "a=(\"Apple\")\n",
    "type(a)"
   ]
  },
  {
   "cell_type": "code",
   "execution_count": 3,
   "id": "90c83557",
   "metadata": {},
   "outputs": [
    {
     "data": {
      "text/plain": [
       "tuple"
      ]
     },
     "execution_count": 3,
     "metadata": {},
     "output_type": "execute_result"
    }
   ],
   "source": [
    "a=(\"Apple\",)\n",
    "type(a)"
   ]
  },
  {
   "cell_type": "code",
   "execution_count": 5,
   "id": "c0884d2b",
   "metadata": {},
   "outputs": [
    {
     "name": "stdout",
     "output_type": "stream",
     "text": [
      "Apple\n",
      "('Apple', 'Ball')\n",
      "('Apple', 'Cat')\n"
     ]
    }
   ],
   "source": [
    "b=(\"Apple\",\"Ball\",\"Cat\")\n",
    "print(b[0])\n",
    "print(b[0:2])\n",
    "print(b[0:3:2])"
   ]
  },
  {
   "cell_type": "code",
   "execution_count": 6,
   "id": "a76b5602",
   "metadata": {},
   "outputs": [
    {
     "name": "stdout",
     "output_type": "stream",
     "text": [
      "('Apple', 'Ball', 'Cat', 'Apple', 'Ball', 'Cat')\n"
     ]
    }
   ],
   "source": [
    "b=(\"Apple\",\"Ball\",\"Cat\")\n",
    "print(b*2)"
   ]
  },
  {
   "cell_type": "code",
   "execution_count": 9,
   "id": "daa114e9",
   "metadata": {},
   "outputs": [
    {
     "name": "stdout",
     "output_type": "stream",
     "text": [
      "('Apple', 'Ball', 'Cat', 'Dog')\n"
     ]
    }
   ],
   "source": [
    "b=(\"Apple\",\"Ball\",\"Cat\")\n",
    "c=(\"Dog\",)\n",
    "a=b+c\n",
    "\n",
    "print(a)"
   ]
  },
  {
   "cell_type": "code",
   "execution_count": null,
   "id": "21835771",
   "metadata": {},
   "outputs": [],
   "source": []
  },
  {
   "cell_type": "code",
   "execution_count": 10,
   "id": "16c05e49",
   "metadata": {},
   "outputs": [
    {
     "name": "stdout",
     "output_type": "stream",
     "text": [
      "enter  3\n",
      "enter x=data\n",
      "('data',)\n",
      "enter x=hall\n",
      "('data', 'hall')\n",
      "enter x=call\n",
      "('data', 'hall', 'call')\n"
     ]
    }
   ],
   "source": [
    "t=tuple()\n",
    "n=int(input(\"enter  \"))\n",
    "for i in range(n):\n",
    "    x=input (\"enter x=\")\n",
    "    t=t+(x,)\n",
    "    print(t)\n",
    "    "
   ]
  },
  {
   "cell_type": "code",
   "execution_count": 13,
   "id": "566a0720",
   "metadata": {},
   "outputs": [
    {
     "name": "stdout",
     "output_type": "stream",
     "text": [
      "enter  3\n",
      "enter x=Apple\n",
      "('Apple',)\n",
      "enter x=Ball\n",
      "('Apple', 'Ball')\n",
      "enter x=Cat\n",
      "('Apple', 'Ball', 'Cat')\n"
     ]
    }
   ],
   "source": [
    "t=tuple()\n",
    "n=int(input(\"enter  \"))\n",
    "for i in range(n):\n",
    "    x=input (\"enter x=\")\n",
    "    t=t+(x,)\n",
    "    print(t)\n",
    "    "
   ]
  },
  {
   "cell_type": "code",
   "execution_count": 16,
   "id": "475bd93d",
   "metadata": {},
   "outputs": [
    {
     "name": "stdout",
     "output_type": "stream",
     "text": [
      "Apple\n",
      "Ball\n",
      "Cat\n",
      "Fish\n",
      "Rat\n"
     ]
    }
   ],
   "source": [
    "a=(\"Apple\",\"Ball\",\"Cat\",\"Dog\",\"Fish\",\"Rat\")\n",
    "for i in a:\n",
    "    if i==\"Dog\":\n",
    "        continue\n",
    "    print(i)    "
   ]
  },
  {
   "cell_type": "code",
   "execution_count": 17,
   "id": "c9ef8936",
   "metadata": {},
   "outputs": [
    {
     "data": {
      "text/plain": [
       "['Apple', 'Ball', 'Cat']"
      ]
     },
     "execution_count": 17,
     "metadata": {},
     "output_type": "execute_result"
    }
   ],
   "source": [
    "sorted(t)"
   ]
  },
  {
   "cell_type": "code",
   "execution_count": 18,
   "id": "c8ab4cf7",
   "metadata": {},
   "outputs": [
    {
     "name": "stdout",
     "output_type": "stream",
     "text": [
      "enter  3\n",
      "enter x=7\n",
      "(7,)\n",
      "enter x=8\n",
      "(7, 8)\n",
      "enter x=9\n",
      "(7, 8, 9)\n"
     ]
    }
   ],
   "source": [
    "t=tuple()\n",
    "n=int(input(\"enter  \"))\n",
    "for i in range(n):\n",
    "    x=int(input (\"enter x=\"))\n",
    "    t=t+(x,)\n",
    "    print(t)\n",
    "    "
   ]
  },
  {
   "cell_type": "code",
   "execution_count": 19,
   "id": "e8b348ff",
   "metadata": {},
   "outputs": [
    {
     "name": "stdout",
     "output_type": "stream",
     "text": [
      "9\n",
      "7\n",
      "24\n"
     ]
    }
   ],
   "source": [
    "print(max(t))\n",
    "print(min(t))\n",
    "print(sum(t))"
   ]
  },
  {
   "cell_type": "code",
   "execution_count": 23,
   "id": "b4c1e57d",
   "metadata": {},
   "outputs": [
    {
     "data": {
      "text/plain": [
       "5"
      ]
     },
     "execution_count": 23,
     "metadata": {},
     "output_type": "execute_result"
    }
   ],
   "source": [
    "a=(23, 44, 23, 47, 89)\n",
    "len(a)"
   ]
  },
  {
   "cell_type": "code",
   "execution_count": 24,
   "id": "35503f20",
   "metadata": {},
   "outputs": [
    {
     "name": "stdout",
     "output_type": "stream",
     "text": [
      "2\n"
     ]
    }
   ],
   "source": [
    "a=(\"Apple\", \"Ball\",\"Cat\",\"Dog\",\"Egg\",\"Fish\")\n",
    "l=len(a)\n",
    "for i in range(l):\n",
    "    if a[i]==\"Cat\":\n",
    "        print(i)"
   ]
  },
  {
   "cell_type": "code",
   "execution_count": 25,
   "id": "22bc6cd2",
   "metadata": {},
   "outputs": [
    {
     "name": "stdout",
     "output_type": "stream",
     "text": [
      "2\n",
      "6\n"
     ]
    }
   ],
   "source": [
    "a=(\"Apple\", \"Ball\",\"Cat\",\"Dog\",\"Egg\",\"Fish\",\"Cat\")\n",
    "l=len(a)\n",
    "for i in range(l):\n",
    "    if a[i]==\"Cat\":\n",
    "        print(i)"
   ]
  },
  {
   "cell_type": "code",
   "execution_count": 27,
   "id": "1545a14a",
   "metadata": {},
   "outputs": [
    {
     "name": "stdout",
     "output_type": "stream",
     "text": [
      "('Apple', 'Ball', 'Cat', 'Egg', 'Fish', 'Cat')\n"
     ]
    }
   ],
   "source": [
    "a=(\"Apple\", \"Ball\",\"Cat\",\"Dog\",\"Egg\",\"Fish\",\"Cat\")\n",
    "b=a[0:3]\n",
    "c=a[4:]\n",
    "d=b+c\n",
    "print(d)"
   ]
  },
  {
   "cell_type": "code",
   "execution_count": null,
   "id": "fb2f82e1",
   "metadata": {},
   "outputs": [],
   "source": []
  }
 ],
 "metadata": {
  "kernelspec": {
   "display_name": "Python 3",
   "language": "python",
   "name": "python3"
  },
  "language_info": {
   "codemirror_mode": {
    "name": "ipython",
    "version": 3
   },
   "file_extension": ".py",
   "mimetype": "text/x-python",
   "name": "python",
   "nbconvert_exporter": "python",
   "pygments_lexer": "ipython3",
   "version": "3.8.8"
  }
 },
 "nbformat": 4,
 "nbformat_minor": 5
}
