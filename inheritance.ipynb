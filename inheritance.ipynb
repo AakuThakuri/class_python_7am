{
 "cells": [
  {
   "cell_type": "code",
   "execution_count": null,
   "id": "06a70e18",
   "metadata": {},
   "outputs": [],
   "source": [
    "# class A\n",
    "#       pass\n",
    "\n",
    "# class B(A):\n",
    "#     pass\n",
    "\n",
    "# obj=B()\n"
   ]
  },
  {
   "cell_type": "code",
   "execution_count": null,
   "id": "157840a6",
   "metadata": {},
   "outputs": [],
   "source": [
    "class Account:\n",
    "    def __init__(self,salary):\n",
    "        self.sa = salary\n",
    "        \n",
    "        def ac(self):\n",
    "            print(\"Hello World my sal is \", self.sal)\n",
    "            \n",
    "    class office(Account):\n",
    "        def off(self):\n",
    "            print(\"Hello World I am {self.name}\")\n",
    "    \n"
   ]
  },
  {
   "cell_type": "code",
   "execution_count": null,
   "id": "754d011f",
   "metadata": {},
   "outputs": [],
   "source": []
  },
  {
   "cell_type": "code",
   "execution_count": null,
   "id": "5ead7520",
   "metadata": {},
   "outputs": [],
   "source": []
  }
 ],
 "metadata": {
  "kernelspec": {
   "display_name": "Python 3",
   "language": "python",
   "name": "python3"
  },
  "language_info": {
   "codemirror_mode": {
    "name": "ipython",
    "version": 3
   },
   "file_extension": ".py",
   "mimetype": "text/x-python",
   "name": "python",
   "nbconvert_exporter": "python",
   "pygments_lexer": "ipython3",
   "version": "3.8.8"
  }
 },
 "nbformat": 4,
 "nbformat_minor": 5
}
