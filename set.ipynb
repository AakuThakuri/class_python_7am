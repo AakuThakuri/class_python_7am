{
 "cells": [
  {
   "cell_type": "code",
   "execution_count": null,
   "id": "69cb620d",
   "metadata": {},
   "outputs": [],
   "source": [
    "#set\n",
    "#-does not follow indexing\n",
    "#-unordered\n",
    "#-no duplicate members\n",
    "#-mutable"
   ]
  },
  {
   "cell_type": "code",
   "execution_count": null,
   "id": "15ed3888",
   "metadata": {},
   "outputs": [],
   "source": []
  },
  {
   "cell_type": "code",
   "execution_count": null,
   "id": "1ffa5e73",
   "metadata": {},
   "outputs": [],
   "source": [
    "#unorder\n",
    "a={\"Apple\",\"Ball\",\"Cat\",\"Dog\"}\n",
    "print(a)"
   ]
  },
  {
   "cell_type": "code",
   "execution_count": null,
   "id": "88ccbd94",
   "metadata": {},
   "outputs": [],
   "source": []
  }
 ],
 "metadata": {
  "kernelspec": {
   "display_name": "Python 3",
   "language": "python",
   "name": "python3"
  }
 },
 "nbformat": 4,
 "nbformat_minor": 5
}
