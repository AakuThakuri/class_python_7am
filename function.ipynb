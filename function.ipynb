{
 "cells": [
  {
   "cell_type": "code",
   "execution_count": null,
   "id": "10bebd27",
   "metadata": {},
   "outputs": [],
   "source": [
    "#function"
   ]
  },
  {
   "cell_type": "code",
   "execution_count": null,
   "id": "40467bc1",
   "metadata": {},
   "outputs": [],
   "source": []
  },
  {
   "cell_type": "code",
   "execution_count": null,
   "id": "f59685c5",
   "metadata": {},
   "outputs": [],
   "source": [
    "#a=()      tuple\n",
    "#a()       function\n"
   ]
  },
  {
   "cell_type": "code",
   "execution_count": null,
   "id": "2e2fb092",
   "metadata": {},
   "outputs": [],
   "source": [
    "#def = 10\n",
    "#1a = 20"
   ]
  },
  {
   "cell_type": "code",
   "execution_count": null,
   "id": "a200079b",
   "metadata": {},
   "outputs": [],
   "source": [
    "# def <function_name>():\n",
    "#     <operations>\n",
    "    \n",
    "#     <function_name>()"
   ]
  },
  {
   "cell_type": "code",
   "execution_count": 1,
   "id": "ec0ae7d0",
   "metadata": {},
   "outputs": [
    {
     "name": "stdout",
     "output_type": "stream",
     "text": [
      "Hello World\n"
     ]
    }
   ],
   "source": [
    "def hello():\n",
    "    print(\"Hello World\")\n",
    "    \n",
    "hello()"
   ]
  },
  {
   "cell_type": "code",
   "execution_count": 2,
   "id": "ad1f60fc",
   "metadata": {},
   "outputs": [
    {
     "name": "stdout",
     "output_type": "stream",
     "text": [
      "250\n"
     ]
    }
   ],
   "source": [
    "def cal():\n",
    "    l = 10\n",
    "    b = 5\n",
    "    h = 5\n",
    "    v = l*b*h\n",
    "    print(v)\n",
    "cal()"
   ]
  },
  {
   "cell_type": "markdown",
   "id": "e651b3a5",
   "metadata": {},
   "source": [
    "def cal():\n",
    "    p = int(input(\"enter p=\"))\n",
    "    t = float(input(\"enter t=\"))\n",
    "    r=float(input(\"enter r=\"))\n",
    "    \n",
    "    i = p*t*r/100\n",
    "    print(i)\n",
    "cal()"
   ]
  },
  {
   "cell_type": "code",
   "execution_count": 1,
   "id": "509a124e",
   "metadata": {},
   "outputs": [
    {
     "name": "stdout",
     "output_type": "stream",
     "text": [
      "enter p=300\n",
      "enter t=3\n",
      "enter r=4\n",
      "36.0\n"
     ]
    }
   ],
   "source": [
    "def cal():\n",
    "    p = int(input(\"enter p=\"))\n",
    "    t = float(input(\"enter t=\"))\n",
    "    r=float(input(\"enter r=\"))\n",
    "    \n",
    "    i = p*t*r/100\n",
    "    print(i)\n",
    "cal()"
   ]
  },
  {
   "cell_type": "code",
   "execution_count": null,
   "id": "56aa817b",
   "metadata": {},
   "outputs": [],
   "source": [
    "def cal():\n",
    "    i = p*t*r/100\n",
    "    print(i)\n",
    "    \n",
    "p = int(input(\"enter p=\"))        #global variable\n",
    "t = float(input(\"enter t=\"))\n",
    "r=float(input(\"enter r=\"))\n",
    "cal()"
   ]
  },
  {
   "cell_type": "code",
   "execution_count": null,
   "id": "f9e1c579",
   "metadata": {},
   "outputs": [],
   "source": [
    "\n",
    "p = int(input(\"enter p=\"))        #global variable\n",
    "t = float(input(\"enter t=\"))\n",
    "r=float(input(\"enter r=\"))def cal():\n",
    "    i = p*t*r/100\n",
    "    print(i)\n",
    "    \n",
    "cal()"
   ]
  },
  {
   "cell_type": "code",
   "execution_count": null,
   "id": "0ac9dd2d",
   "metadata": {},
   "outputs": [],
   "source": [
    "# funcyion with no  argument and and non return type\n",
    "# funcyion with argument and and non return type\n",
    "# funcyion with no argument and and  return type\n",
    "# funcyion with argument and and  return type"
   ]
  },
  {
   "cell_type": "code",
   "execution_count": 3,
   "id": "26788f4b",
   "metadata": {},
   "outputs": [
    {
     "name": "stdout",
     "output_type": "stream",
     "text": [
      "Hello World\n"
     ]
    }
   ],
   "source": [
    "# funcyion with argument and and non return type\n",
    "def hello(x):\n",
    "    print(x)\n",
    "hello(\"Hello World\")"
   ]
  },
  {
   "cell_type": "code",
   "execution_count": 5,
   "id": "afeead2a",
   "metadata": {},
   "outputs": [
    {
     "name": "stdout",
     "output_type": "stream",
     "text": [
      "20\n"
     ]
    }
   ],
   "source": [
    "def area(l,b):\n",
    "    a = l*b\n",
    "    print(a)\n",
    "    \n",
    "area(4,5)"
   ]
  },
  {
   "cell_type": "code",
   "execution_count": null,
   "id": "fa64a0cd",
   "metadata": {},
   "outputs": [],
   "source": [
    "def area(x,y):\n",
    "    a = x*y\n",
    "    print(a)\n",
    "  \n",
    "l = int(input(\"enter l=\"))\n",
    "b = int(input(\"enter b=\"))\n",
    "\n",
    "area(l,b)"
   ]
  },
  {
   "cell_type": "code",
   "execution_count": null,
   "id": "fc0299b7",
   "metadata": {},
   "outputs": [],
   "source": [
    "def area(x,y):\n",
    "    a = x*y\n",
    "    print(a)\n",
    "def volune(x,y,z)\n",
    "    v=x*y*z\n",
    "    print(v)\n",
    "  \n",
    "l = int(input(\"enter l=\"))\n",
    "b = int(input(\"enter b=\"))\n",
    "h  int(input(\"enter h=\"))\n",
    "area(l,b)"
   ]
  },
  {
   "cell_type": "code",
   "execution_count": null,
   "id": "8e5a9ce8",
   "metadata": {},
   "outputs": [],
   "source": [
    "# return type fuction\n",
    "def hello()\n",
    "    x=\"hwllo world\"\n",
    "    return x\n",
    "\n"
   ]
  },
  {
   "cell_type": "code",
   "execution_count": 1,
   "id": "d612bd11",
   "metadata": {},
   "outputs": [
    {
     "ename": "SyntaxError",
     "evalue": "invalid syntax (<ipython-input-1-04b12528b7b6>, line 1)",
     "output_type": "error",
     "traceback": [
      "\u001b[1;36m  File \u001b[1;32m\"<ipython-input-1-04b12528b7b6>\"\u001b[1;36m, line \u001b[1;32m1\u001b[0m\n\u001b[1;33m    def hello()\u001b[0m\n\u001b[1;37m               ^\u001b[0m\n\u001b[1;31mSyntaxError\u001b[0m\u001b[1;31m:\u001b[0m invalid syntax\n"
     ]
    }
   ],
   "source": [
    "def hello()\n",
    "    x=\"hello world\"\n",
    "    return x\n",
    "y=hello()\n",
    "z=\"world\"\n",
    "\n",
    "a=x+y\n",
    "print(a)\n"
   ]
  },
  {
   "cell_type": "code",
   "execution_count": 2,
   "id": "c4984acf",
   "metadata": {},
   "outputs": [
    {
     "name": "stdout",
     "output_type": "stream",
     "text": [
      "360\n"
     ]
    }
   ],
   "source": [
    "def area():\n",
    "    l=30\n",
    "    b=4\n",
    "    a=l*b\n",
    "    return a\n",
    "ar=area()\n",
    "h=3\n",
    "v=ar*h\n",
    "print(v)\n",
    "     "
   ]
  },
  {
   "cell_type": "code",
   "execution_count": 3,
   "id": "fb65dd8b",
   "metadata": {},
   "outputs": [
    {
     "name": "stdout",
     "output_type": "stream",
     "text": [
      "enetr l=89\n",
      "enetr b=78\n",
      "enetr h=90\n"
     ]
    },
    {
     "ename": "NameError",
     "evalue": "name 'cal' is not defined",
     "output_type": "error",
     "traceback": [
      "\u001b[1;31m---------------------------------------------------------------------------\u001b[0m",
      "\u001b[1;31mNameError\u001b[0m                                 Traceback (most recent call last)",
      "\u001b[1;32m<ipython-input-3-9e344289df38>\u001b[0m in \u001b[0;36m<module>\u001b[1;34m\u001b[0m\n\u001b[0;32m      6\u001b[0m \u001b[0mb\u001b[0m\u001b[1;33m=\u001b[0m\u001b[0mint\u001b[0m\u001b[1;33m(\u001b[0m\u001b[0minput\u001b[0m\u001b[1;33m(\u001b[0m\u001b[1;34m\"enetr b=\"\u001b[0m\u001b[1;33m)\u001b[0m\u001b[1;33m)\u001b[0m\u001b[1;33m\u001b[0m\u001b[1;33m\u001b[0m\u001b[0m\n\u001b[0;32m      7\u001b[0m \u001b[0mh\u001b[0m\u001b[1;33m=\u001b[0m\u001b[0mint\u001b[0m\u001b[1;33m(\u001b[0m\u001b[0minput\u001b[0m\u001b[1;33m(\u001b[0m\u001b[1;34m\"enetr h=\"\u001b[0m\u001b[1;33m)\u001b[0m\u001b[1;33m)\u001b[0m\u001b[1;33m\u001b[0m\u001b[1;33m\u001b[0m\u001b[0m\n\u001b[1;32m----> 8\u001b[1;33m \u001b[0mar\u001b[0m\u001b[1;33m=\u001b[0m\u001b[0mcal\u001b[0m\u001b[1;33m(\u001b[0m\u001b[0ml\u001b[0m\u001b[1;33m,\u001b[0m\u001b[0mb\u001b[0m\u001b[1;33m,\u001b[0m\u001b[0mh\u001b[0m\u001b[1;33m)\u001b[0m\u001b[1;33m\u001b[0m\u001b[1;33m\u001b[0m\u001b[0m\n\u001b[0m\u001b[0;32m      9\u001b[0m \u001b[1;33m\u001b[0m\u001b[0m\n\u001b[0;32m     10\u001b[0m \u001b[0mprint\u001b[0m\u001b[1;33m(\u001b[0m\u001b[0mtype\u001b[0m\u001b[1;33m(\u001b[0m\u001b[0mar\u001b[0m\u001b[1;33m)\u001b[0m\u001b[1;33m)\u001b[0m\u001b[1;33m\u001b[0m\u001b[1;33m\u001b[0m\u001b[0m\n",
      "\u001b[1;31mNameError\u001b[0m: name 'cal' is not defined"
     ]
    }
   ],
   "source": [
    "def area(l,b,h):\n",
    "    a=l*b\n",
    "    v=a*h\n",
    "    return a,v\n",
    "l=int(input(\"enetr l=\"))\n",
    "b=int(input(\"enetr b=\"))\n",
    "h=int(input(\"enetr h=\"))\n",
    "ar=cal(l,b,h)\n",
    "\n",
    "print(type(ar))\n",
    "area,volume=ar\n",
    "print(area)\n",
    "print(volume)\n"
   ]
  },
  {
   "cell_type": "code",
   "execution_count": null,
   "id": "2189cb12",
   "metadata": {},
   "outputs": [],
   "source": []
  }
 ],
 "metadata": {
  "kernelspec": {
   "display_name": "Python 3",
   "language": "python",
   "name": "python3"
  },
  "language_info": {
   "codemirror_mode": {
    "name": "ipython",
    "version": 3
   },
   "file_extension": ".py",
   "mimetype": "text/x-python",
   "name": "python",
   "nbconvert_exporter": "python",
   "pygments_lexer": "ipython3",
   "version": "3.8.8"
  }
 },
 "nbformat": 4,
 "nbformat_minor": 5
}
