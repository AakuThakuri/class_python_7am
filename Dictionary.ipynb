{
 "cells": [
  {
   "cell_type": "code",
   "execution_count": null,
   "id": "d64599ca",
   "metadata": {},
   "outputs": [],
   "source": [
    "# Dictionary\n",
    "# -Indexed\n",
    "# -ordered\n",
    "# -duplicate value\n",
    "# -mutable"
   ]
  },
  {
   "cell_type": "code",
   "execution_count": null,
   "id": "9f2b6272",
   "metadata": {},
   "outputs": [],
   "source": [
    "a={<key>:<value>,<key>:<value>,...........}"
   ]
  },
  {
   "cell_type": "code",
   "execution_count": 2,
   "id": "5a109695",
   "metadata": {},
   "outputs": [
    {
     "name": "stdout",
     "output_type": "stream",
     "text": [
      "<class 'dict'>\n"
     ]
    }
   ],
   "source": [
    "a={\"a\":\"Apple\",\"b\":\"Ball\"}\n",
    "print(type(a))"
   ]
  },
  {
   "cell_type": "code",
   "execution_count": 3,
   "id": "27b2f670",
   "metadata": {},
   "outputs": [
    {
     "name": "stdout",
     "output_type": "stream",
     "text": [
      "<class 'dict'>\n"
     ]
    }
   ],
   "source": [
    "a={}\n",
    "print(type(a))"
   ]
  },
  {
   "cell_type": "code",
   "execution_count": 4,
   "id": "ce826659",
   "metadata": {},
   "outputs": [
    {
     "name": "stdout",
     "output_type": "stream",
     "text": [
      "Apple\n"
     ]
    }
   ],
   "source": [
    "a={\"a\":\"Apple\",\"b\":\"Ball\",\"c\":\"Cat\"}\n",
    "print(a[\"a\"])"
   ]
  },
  {
   "cell_type": "code",
   "execution_count": 5,
   "id": "13968255",
   "metadata": {},
   "outputs": [
    {
     "ename": "TypeError",
     "evalue": "unhashable type: 'slice'",
     "output_type": "error",
     "traceback": [
      "\u001b[1;31m---------------------------------------------------------------------------\u001b[0m",
      "\u001b[1;31mTypeError\u001b[0m                                 Traceback (most recent call last)",
      "\u001b[1;32m<ipython-input-5-bd30a8e55fc1>\u001b[0m in \u001b[0;36m<module>\u001b[1;34m\u001b[0m\n\u001b[0;32m      1\u001b[0m \u001b[0ma\u001b[0m\u001b[1;33m=\u001b[0m\u001b[1;33m{\u001b[0m\u001b[1;34m\"a\"\u001b[0m\u001b[1;33m:\u001b[0m\u001b[1;34m\"Apple\"\u001b[0m\u001b[1;33m,\u001b[0m\u001b[1;34m\"b\"\u001b[0m\u001b[1;33m:\u001b[0m\u001b[1;34m\"Ball\"\u001b[0m\u001b[1;33m,\u001b[0m\u001b[1;34m\"c\"\u001b[0m\u001b[1;33m:\u001b[0m\u001b[1;34m\"Cat\"\u001b[0m\u001b[1;33m}\u001b[0m\u001b[1;33m\u001b[0m\u001b[1;33m\u001b[0m\u001b[0m\n\u001b[1;32m----> 2\u001b[1;33m \u001b[0mprint\u001b[0m\u001b[1;33m(\u001b[0m\u001b[0ma\u001b[0m\u001b[1;33m[\u001b[0m\u001b[1;34m\"a\"\u001b[0m\u001b[1;33m:\u001b[0m\u001b[1;34m\"b\"\u001b[0m\u001b[1;33m]\u001b[0m\u001b[1;33m)\u001b[0m\u001b[1;33m\u001b[0m\u001b[1;33m\u001b[0m\u001b[0m\n\u001b[0m",
      "\u001b[1;31mTypeError\u001b[0m: unhashable type: 'slice'"
     ]
    }
   ],
   "source": [
    "a={\"a\":\"Apple\",\"b\":\"Ball\",\"c\":\"Cat\"}\n",
    "print(a[\"a\":\"b\"])"
   ]
  },
  {
   "cell_type": "code",
   "execution_count": 6,
   "id": "2c5ab02f",
   "metadata": {},
   "outputs": [
    {
     "data": {
      "text/plain": [
       "{'a': 'Apple', 'b': 'Ball', 'c': 'Cat'}"
      ]
     },
     "execution_count": 6,
     "metadata": {},
     "output_type": "execute_result"
    }
   ],
   "source": [
    "a={\"a\":\"Apple\",\"b\":\"Ball\",\"c\":\"Cat\"}\n",
    "a"
   ]
  },
  {
   "cell_type": "code",
   "execution_count": 7,
   "id": "4665af8a",
   "metadata": {},
   "outputs": [
    {
     "data": {
      "text/plain": [
       "{'B': 'Apple', 'A': 'Ball', 'c': 'Cat'}"
      ]
     },
     "execution_count": 7,
     "metadata": {},
     "output_type": "execute_result"
    }
   ],
   "source": [
    "a={\"B\":\"Apple\",\"A\":\"Ball\",\"c\":\"Cat\"}\n",
    "a"
   ]
  },
  {
   "cell_type": "code",
   "execution_count": 8,
   "id": "2a23ee1c",
   "metadata": {},
   "outputs": [
    {
     "data": {
      "text/plain": [
       "{'B': 'Apple', 'b': 'Ball', 'c': 'Cat'}"
      ]
     },
     "execution_count": 8,
     "metadata": {},
     "output_type": "execute_result"
    }
   ],
   "source": [
    "a={\"B\":\"Apple\",\"A\":\"Ball\",\"c\":\"Cat\"}\n",
    "a={\"B\":\"Apple\",\"b\":\"Ball\",\"c\":\"Cat\"}\n",
    "a"
   ]
  },
  {
   "cell_type": "code",
   "execution_count": 12,
   "id": "0f9fde94",
   "metadata": {},
   "outputs": [
    {
     "data": {
      "text/plain": [
       "{'B': 'Ball', 'c': 'Cat'}"
      ]
     },
     "execution_count": 12,
     "metadata": {},
     "output_type": "execute_result"
    }
   ],
   "source": [
    "a={\"B\":\"Apple\",\"B\":\"Ball\",\"c\":\"Cat\"}\n",
    "a"
   ]
  },
  {
   "cell_type": "code",
   "execution_count": 14,
   "id": "9792cf34",
   "metadata": {},
   "outputs": [
    {
     "data": {
      "text/plain": [
       "{'a': 'Apple', 'b': 'Ball', 'c': 'Cat'}"
      ]
     },
     "execution_count": 14,
     "metadata": {},
     "output_type": "execute_result"
    }
   ],
   "source": [
    "a={}\n",
    "a[\"a\"]=\"Apple\"\n",
    "a[\"b\"]=\"Ball\"\n",
    "a[\"c\"]=\"Cat\"\n",
    "a\n"
   ]
  },
  {
   "cell_type": "code",
   "execution_count": 15,
   "id": "3889152c",
   "metadata": {},
   "outputs": [
    {
     "data": {
      "text/plain": [
       "{'a': 'rat', 'b': 'Ball', 'c': 'Cat'}"
      ]
     },
     "execution_count": 15,
     "metadata": {},
     "output_type": "execute_result"
    }
   ],
   "source": [
    "a={}\n",
    "a[\"a\"]=\"Apple\"\n",
    "a[\"b\"]=\"Ball\"\n",
    "a[\"c\"]=\"Cat\"\n",
    "a[\"a\"]=\"rat\"\n",
    "a"
   ]
  },
  {
   "cell_type": "code",
   "execution_count": 1,
   "id": "fe70ebfb",
   "metadata": {},
   "outputs": [
    {
     "name": "stdout",
     "output_type": "stream",
     "text": [
      "enter n=2\n",
      "enter name=ram\n",
      "enter phone=980000466\n",
      "enter name=sita\n",
      "enter phone=985467888\n",
      "{'ram': 980000466, 'sita': 985467888}\n"
     ]
    }
   ],
   "source": [
    "d={}\n",
    "n=int(input(\"enter n=\"))\n",
    "for i in range(n):\n",
    "    name=input(\"enter name=\")\n",
    "    phone=int(input(\"enter phone=\"))\n",
    "    key=name\n",
    "    value=phone\n",
    "    d[key]=value\n",
    "print(d)   "
   ]
  },
  {
   "cell_type": "code",
   "execution_count": 2,
   "id": "e0cb2847",
   "metadata": {},
   "outputs": [
    {
     "data": {
      "text/plain": [
       "{'Ram': 9809949989, 'Sita': 98256663}"
      ]
     },
     "execution_count": 2,
     "metadata": {},
     "output_type": "execute_result"
    }
   ],
   "source": [
    "b=[('Ram',9809949989),('Sita',98256663)]\n",
    "a=dict(b)\n",
    "a"
   ]
  },
  {
   "cell_type": "code",
   "execution_count": 5,
   "id": "48894ba4",
   "metadata": {},
   "outputs": [
    {
     "data": {
      "text/plain": [
       "[98256663, 9809949989, 'Ram', 'Sita']"
      ]
     },
     "execution_count": 5,
     "metadata": {},
     "output_type": "execute_result"
    }
   ],
   "source": [
    "a={'Ram',9809949989,'Sita',98256663}\n",
    "list(a)"
   ]
  },
  {
   "cell_type": "code",
   "execution_count": null,
   "id": "850057ed",
   "metadata": {},
   "outputs": [],
   "source": []
  },
  {
   "cell_type": "code",
   "execution_count": 6,
   "id": "274ee0ca",
   "metadata": {},
   "outputs": [
    {
     "data": {
      "text/plain": [
       "{'Ram': 9836666266, 'Shyam': 9855545, 'hari': 9765555}"
      ]
     },
     "execution_count": 6,
     "metadata": {},
     "output_type": "execute_result"
    }
   ],
   "source": [
    "a={'Ram':9836666266,'Shyam':9855545}\n",
    "b={'hari':9765555}\n",
    "a.update(b)\n",
    "a"
   ]
  },
  {
   "cell_type": "code",
   "execution_count": 7,
   "id": "1ca1b57a",
   "metadata": {},
   "outputs": [
    {
     "data": {
      "text/plain": [
       "{'Shyam': 9855545}"
      ]
     },
     "execution_count": 7,
     "metadata": {},
     "output_type": "execute_result"
    }
   ],
   "source": [
    "a={'Ram':9836666266,'Shyam':9855545}\n",
    "del a['Ram']\n",
    "a"
   ]
  },
  {
   "cell_type": "code",
   "execution_count": 8,
   "id": "8ec2724c",
   "metadata": {},
   "outputs": [
    {
     "ename": "AttributeError",
     "evalue": "'dict' object has no attribute 'remove'",
     "output_type": "error",
     "traceback": [
      "\u001b[1;31m---------------------------------------------------------------------------\u001b[0m",
      "\u001b[1;31mAttributeError\u001b[0m                            Traceback (most recent call last)",
      "\u001b[1;32m<ipython-input-8-5e61af92c83c>\u001b[0m in \u001b[0;36m<module>\u001b[1;34m\u001b[0m\n\u001b[0;32m      1\u001b[0m \u001b[0ma\u001b[0m\u001b[1;33m=\u001b[0m\u001b[1;33m{\u001b[0m\u001b[1;34m'Ram'\u001b[0m\u001b[1;33m:\u001b[0m\u001b[1;36m9836666266\u001b[0m\u001b[1;33m,\u001b[0m\u001b[1;34m'Shyam'\u001b[0m\u001b[1;33m:\u001b[0m\u001b[1;36m9855545\u001b[0m\u001b[1;33m}\u001b[0m\u001b[1;33m\u001b[0m\u001b[1;33m\u001b[0m\u001b[0m\n\u001b[1;32m----> 2\u001b[1;33m \u001b[0ma\u001b[0m\u001b[1;33m.\u001b[0m\u001b[0mremove\u001b[0m\u001b[1;33m(\u001b[0m\u001b[1;34m'Ram'\u001b[0m\u001b[1;33m)\u001b[0m\u001b[1;33m\u001b[0m\u001b[1;33m\u001b[0m\u001b[0m\n\u001b[0m\u001b[0;32m      3\u001b[0m \u001b[0ma\u001b[0m\u001b[1;33m\u001b[0m\u001b[1;33m\u001b[0m\u001b[0m\n",
      "\u001b[1;31mAttributeError\u001b[0m: 'dict' object has no attribute 'remove'"
     ]
    }
   ],
   "source": [
    "a={'Ram':9836666266,'Shyam':9855545}\n",
    "a.remove('Ram')\n",
    "a"
   ]
  },
  {
   "cell_type": "code",
   "execution_count": 9,
   "id": "f0691975",
   "metadata": {},
   "outputs": [
    {
     "data": {
      "text/plain": [
       "{'Shyam': 9855545}"
      ]
     },
     "execution_count": 9,
     "metadata": {},
     "output_type": "execute_result"
    }
   ],
   "source": [
    "a={'Ram':9836666266,'Shyam':9855545}\n",
    "a.pop('Ram')\n",
    "a"
   ]
  },
  {
   "cell_type": "code",
   "execution_count": 11,
   "id": "9c56e6f6",
   "metadata": {},
   "outputs": [
    {
     "data": {
      "text/plain": [
       "{('Ram', 'Hari'): 9836666266, 'Shyam': 9855545}"
      ]
     },
     "execution_count": 11,
     "metadata": {},
     "output_type": "execute_result"
    }
   ],
   "source": [
    "a={('Ram','Hari'):9836666266,'Shyam':9855545}\n",
    "a\n"
   ]
  },
  {
   "cell_type": "code",
   "execution_count": 12,
   "id": "0406e80a",
   "metadata": {},
   "outputs": [
    {
     "data": {
      "text/plain": [
       "9836666266"
      ]
     },
     "execution_count": 12,
     "metadata": {},
     "output_type": "execute_result"
    }
   ],
   "source": [
    "a[('Ram','Hari')]"
   ]
  },
  {
   "cell_type": "code",
   "execution_count": null,
   "id": "ac6a18cb",
   "metadata": {},
   "outputs": [],
   "source": [
    "#list inside dict\n",
    "a={'Ram':[9856666266,980345678],'Shyam':[985554598,9804371]}\n",
    "\n",
    "#dic inside list\n",
    "a=[{'Ram':9836666266}\n",
    "   ,{'Shyam':9855545}]\n",
    "\n",
    "#tuple inside dict\n",
    "a={'Ram':(9856666266,980345678),'Shyam':(985554598,9804371)}\n",
    "\n",
    "#dict inside tuple\n",
    "a=({'Ram':9836666266}\n",
    "   ,{'Shyam':9855545})\n",
    "\n",
    "#dict inside dict\n",
    "a={'Ram':{\"NTC\":9856666266,\"NCELL\"980345678}\n",
    ",'Shyam':{\"NTC\":985554598,\"NCELL\"9804371}}\n",
    "\n",
    "\n"
   ]
  },
  {
   "cell_type": "code",
   "execution_count": 15,
   "id": "c9e56d81",
   "metadata": {},
   "outputs": [
    {
     "name": "stdout",
     "output_type": "stream",
     "text": [
      "Enter n=2\n",
      "Enter name=akriti\n",
      "Enter ncell no=9823865949\n",
      "Enter ntc no=9861234567\n",
      "Enter name=sujan\n",
      "Enter ncell no=9823456789\n",
      "Enter ntc no=9864890752\n",
      "{'akriti': [9823865949, 9861234567], 'sujan': [9823456789, 9864890752]}\n"
     ]
    }
   ],
   "source": [
    "#list inside dict\n",
    "d={}\n",
    "n=int(input(\"Enter n=\"))\n",
    "for i in range(n):\n",
    "    name=input(\"Enter name=\")\n",
    "    ncell=int(input(\"Enter ncell no=\"))\n",
    "    ntc=int(input(\"Enter ntc no=\"))\n",
    "    key=name\n",
    "    value=[ncell,ntc]\n",
    "    d[key]=value\n",
    "print(d)    \n",
    "    \n",
    "    "
   ]
  },
  {
   "cell_type": "code",
   "execution_count": 17,
   "id": "1d52bd2d",
   "metadata": {},
   "outputs": [
    {
     "name": "stdout",
     "output_type": "stream",
     "text": [
      "[9856666266, 980345678]\n"
     ]
    }
   ],
   "source": [
    "a={'Ram':[9856666266,980345678]\n",
    "   ,'Shyam':[985554598,9804371]}\n",
    "print(a['Ram'])"
   ]
  },
  {
   "cell_type": "code",
   "execution_count": 34,
   "id": "3d4138b1",
   "metadata": {},
   "outputs": [
    {
     "data": {
      "text/plain": [
       "{'Ram': [984566666, 980345678], 'Shyam': [985554598, 9804371]}"
      ]
     },
     "execution_count": 34,
     "metadata": {},
     "output_type": "execute_result"
    }
   ],
   "source": [
    "a={'Ram':[9856666266,980345678],'Shyam':[985554598,9804371]}\n",
    "a['Ram'][0]=984566666\n",
    "a\n",
    "\n"
   ]
  },
  {
   "cell_type": "code",
   "execution_count": 29,
   "id": "5de2b087",
   "metadata": {},
   "outputs": [
    {
     "data": {
      "text/plain": [
       "{'Ram': [9823456789, 9861578973], 'Shyam': [985554598, 9804371]}"
      ]
     },
     "execution_count": 29,
     "metadata": {},
     "output_type": "execute_result"
    }
   ],
   "source": [
    "a={'Ram':[9856666266,980345678]\n",
    "   ,'Shyam':[985554598,9804371]}\n",
    "a['Ram']=[9823456789,9861578973]\n",
    "a"
   ]
  },
  {
   "cell_type": "code",
   "execution_count": 35,
   "id": "88903f1d",
   "metadata": {},
   "outputs": [
    {
     "data": {
      "text/plain": [
       "{'Ram': [980345678], 'Shyam': [985554598, 9804371]}"
      ]
     },
     "execution_count": 35,
     "metadata": {},
     "output_type": "execute_result"
    }
   ],
   "source": [
    "a={'Ram':[9856666266,980345678]\n",
    "   ,'Shyam':[985554598,9804371]}\n",
    "del a['Ram'][0]\n",
    "a"
   ]
  },
  {
   "cell_type": "code",
   "execution_count": 21,
   "id": "499644dd",
   "metadata": {},
   "outputs": [
    {
     "data": {
      "text/plain": [
       "{'Ram': [9856666266, 980345678, 563778999], 'Shyam': [985554598, 9804371]}"
      ]
     },
     "execution_count": 21,
     "metadata": {},
     "output_type": "execute_result"
    }
   ],
   "source": [
    "a={'Ram':[9856666266,980345678]\n",
    "   ,'Shyam':[985554598,9804371]}\n",
    "a['Ram'].append(563778999)\n",
    "a"
   ]
  },
  {
   "cell_type": "code",
   "execution_count": 22,
   "id": "821c7d43",
   "metadata": {
    "scrolled": true
   },
   "outputs": [
    {
     "data": {
      "text/plain": [
       "{'Ram': [9856666266, 980345678], 'Shyam': [985554598, 9804371]}"
      ]
     },
     "execution_count": 22,
     "metadata": {},
     "output_type": "execute_result"
    }
   ],
   "source": [
    "a={'Ram':[9856666266,980345678]\n",
    "   ,'Shyam':[985554598,9804371]}\n",
    "a['Ram'][0]\n",
    "a"
   ]
  },
  {
   "cell_type": "code",
   "execution_count": 25,
   "id": "4ec1049a",
   "metadata": {},
   "outputs": [
    {
     "data": {
      "text/plain": [
       "{'Shyam': 9855545}"
      ]
     },
     "execution_count": 25,
     "metadata": {},
     "output_type": "execute_result"
    }
   ],
   "source": [
    "#dic inside list\n",
    "a=[{'Ram':9836666266},{'Shyam':9855545}]\n",
    "a[1]"
   ]
  },
  {
   "cell_type": "code",
   "execution_count": 26,
   "id": "d8d7be4f",
   "metadata": {},
   "outputs": [
    {
     "name": "stdout",
     "output_type": "stream",
     "text": [
      "{'Ram': 9836666266}\n",
      "{'Shyam': 9855545}\n"
     ]
    }
   ],
   "source": [
    "a=[{'Ram':9836666266},{'Shyam':9855545}]\n",
    "for i in a:\n",
    "    print(i)"
   ]
  },
  {
   "cell_type": "code",
   "execution_count": 2,
   "id": "8417f13e",
   "metadata": {},
   "outputs": [
    {
     "name": "stdout",
     "output_type": "stream",
     "text": [
      "enter n=2\n",
      "enter name=aaku\n",
      "enter ntc no=9823675674\n",
      "enter ncell no=9861234567\n",
      "enter name=suj\n",
      "enter ntc no=9816778909\n",
      "enter ncell no=9864567829\n",
      "{'Name': 'suj', 'NTC': 9816778909, 'Ncell': 9864567829}\n"
     ]
    }
   ],
   "source": [
    "l=[]\n",
    "n=int(input(\"enter n=\"))\n",
    "for i in range(n):\n",
    "    name=input(\"enter name=\")\n",
    "    ntc=int(input(\"enter ntc no=\"))\n",
    "    ncell=int(input(\"enter ncell no=\"))\n",
    "    d={'Name':name,'NTC':ntc,'Ncell':ncell}\n",
    "    l.append(d)\n",
    "print(d)"
   ]
  },
  {
   "cell_type": "code",
   "execution_count": 3,
   "id": "75ccc2b9",
   "metadata": {},
   "outputs": [
    {
     "name": "stdout",
     "output_type": "stream",
     "text": [
      "[{'Name': 'aaku', 'NTC': 9823675674, 'Ncell': 9861234567}, {'Name': 'suj', 'NTC': 9816778909, 'Ncell': 9864567829}]\n"
     ]
    }
   ],
   "source": [
    "print(l)"
   ]
  },
  {
   "cell_type": "code",
   "execution_count": 1,
   "id": "7e5bc17c",
   "metadata": {},
   "outputs": [
    {
     "name": "stdout",
     "output_type": "stream",
     "text": [
      "{'Name': 'Ram', 'Ntc': 986234819, 'Ncell': 980567432}\n"
     ]
    }
   ],
   "source": [
    "a = [{'Name':'Ram','Ntc':986234819, 'Ncell':980567432},\n",
    "  {'Name':'Shyam','Ntc':986294819, 'Ncell':980587432}]\n",
    "for i in a:\n",
    "    if i['Name'] == 'Ram':\n",
    "        print(i)"
   ]
  },
  {
   "cell_type": "code",
   "execution_count": 4,
   "id": "aa3bf37c",
   "metadata": {},
   "outputs": [
    {
     "name": "stdout",
     "output_type": "stream",
     "text": [
      "{'Name': 'Ram', 'Ntc': 986234819, 'Ncell': 980567432}\n",
      "{'Name': 'Shyam', 'Ntc': 986294819, 'Ncell': 980587432}\n"
     ]
    }
   ],
   "source": [
    "a = [{'Name':'Ram','Ntc':986234819, 'Ncell':980567432},\n",
    "  {'Name':'Shyam','Ntc':986294819, 'Ncell':980587432}]\n",
    "for i in a:\n",
    "    print(i)\n",
    "    "
   ]
  },
  {
   "cell_type": "code",
   "execution_count": 6,
   "id": "6c3daef2",
   "metadata": {},
   "outputs": [
    {
     "name": "stdout",
     "output_type": "stream",
     "text": [
      "Ram\n",
      "Shyam\n"
     ]
    }
   ],
   "source": [
    "a = [{'Name':'Ram','Ntc':986234819, 'Ncell':980567432},\n",
    "  {'Name':'Shyam','Ntc':986294819, 'Ncell':980587432}]\n",
    "for i in a:\n",
    "    print(i['Name'])"
   ]
  },
  {
   "cell_type": "code",
   "execution_count": 10,
   "id": "7898871e",
   "metadata": {},
   "outputs": [
    {
     "data": {
      "text/plain": [
       "{'Ram': {'NTC': 9856666266, 'NCELL': 980345678},\n",
       " 'Shyam': {'NTC': 985554598, 'NCELL': 9804371}}"
      ]
     },
     "execution_count": 10,
     "metadata": {},
     "output_type": "execute_result"
    }
   ],
   "source": [
    "#dict inside dict\n",
    "a={'Ram':{\"NTC\":9856666266,\"NCELL\":980345678}\n",
    ",'Shyam':{\"NTC\":985554598,\"NCELL\":9804371}}\n",
    "a\n",
    "\n"
   ]
  },
  {
   "cell_type": "code",
   "execution_count": 11,
   "id": "ffd8f97b",
   "metadata": {},
   "outputs": [
    {
     "data": {
      "text/plain": [
       "{'NTC': 9856666266, 'NCELL': 980345678}"
      ]
     },
     "execution_count": 11,
     "metadata": {},
     "output_type": "execute_result"
    }
   ],
   "source": [
    "a={'Ram':{\"NTC\":9856666266,\"NCELL\":980345678}\n",
    ",'Shyam':{\"NTC\":985554598,\"NCELL\":9804371}}\n",
    "a['Ram']"
   ]
  },
  {
   "cell_type": "code",
   "execution_count": 13,
   "id": "392a41c9",
   "metadata": {},
   "outputs": [
    {
     "data": {
      "text/plain": [
       "{'Name': 'Ram', 'NTC': 9856666266, 'NCELL': 980345678}"
      ]
     },
     "execution_count": 13,
     "metadata": {},
     "output_type": "execute_result"
    }
   ],
   "source": [
    "a={1:{'Name':'Ram',\"NTC\":9856666266,\"NCELL\":980345678}\n",
    ",2:{'Name':'Shyam',\"NTC\":985554598,\"NCELL\":9804371}}\n",
    "a[1]\n"
   ]
  },
  {
   "cell_type": "code",
   "execution_count": 14,
   "id": "6b162417",
   "metadata": {},
   "outputs": [
    {
     "data": {
      "text/plain": [
       "'Ram'"
      ]
     },
     "execution_count": 14,
     "metadata": {},
     "output_type": "execute_result"
    }
   ],
   "source": [
    "a={1:{'Name':'Ram',\"NTC\":9856666266,\"NCELL\":980345678}\n",
    ",2:{'Name':'Shyam',\"NTC\":985554598,\"NCELL\":9804371}}\n",
    "a[1]['Name']\n"
   ]
  },
  {
   "cell_type": "code",
   "execution_count": 18,
   "id": "2641e509",
   "metadata": {},
   "outputs": [
    {
     "data": {
      "text/plain": [
       "{1: {'Name': 'AAKU', 'NTC': 9856666266, 'NCELL': 980345678},\n",
       " 2: {'Name': 'Shyam', 'NTC': 985554598, 'NCELL': 9804371}}"
      ]
     },
     "execution_count": 18,
     "metadata": {},
     "output_type": "execute_result"
    }
   ],
   "source": [
    "#for change the name\n",
    "a={1:{'Name':'Ram',\"NTC\":9856666266,\"NCELL\":980345678}\n",
    ",2:{'Name':'Shyam',\"NTC\":985554598,\"NCELL\":9804371}}\n",
    "a[1]['Name']='AAKU'\n",
    "    \n",
    "a\n",
    "    \n"
   ]
  },
  {
   "cell_type": "code",
   "execution_count": 21,
   "id": "fecfe320",
   "metadata": {},
   "outputs": [
    {
     "data": {
      "text/plain": [
       "{2: {'Name': 'Shyam', 'NTC': 985554598, 'NCELL': 9804371}}"
      ]
     },
     "execution_count": 21,
     "metadata": {},
     "output_type": "execute_result"
    }
   ],
   "source": [
    "#for delet\n",
    "a={1:{'Name':'Ram',\"NTC\":9856666266,\"NCELL\":980345678}\n",
    ",2:{'Name':'Shyam',\"NTC\":985554598,\"NCELL\":9804371}}\n",
    "del a[1]\n",
    "a\n"
   ]
  },
  {
   "cell_type": "code",
   "execution_count": 23,
   "id": "b3c534ee",
   "metadata": {},
   "outputs": [
    {
     "data": {
      "text/plain": [
       "{1: {'Name': 'Ram', 'NTC': 9856666266, 'NCELL': 980345678},\n",
       " 2: {'Name': 'Shyam', 'NTC': 985554598, 'NCELL': 9804371},\n",
       " 3: {'Name': 'Hari', 'NTC': 985894598, 'NCELL': 980984371}}"
      ]
     },
     "execution_count": 23,
     "metadata": {},
     "output_type": "execute_result"
    }
   ],
   "source": [
    "#for add\n",
    "a={1:{'Name':'Ram',\"NTC\":9856666266,\"NCELL\":980345678}\n",
    ",2:{'Name':'Shyam',\"NTC\":985554598,\"NCELL\":9804371}}\n",
    "a[3]={'Name':'Hari',\"NTC\":985894598,\"NCELL\":980984371}\n",
    "a\n"
   ]
  },
  {
   "cell_type": "code",
   "execution_count": 24,
   "id": "87485b08",
   "metadata": {},
   "outputs": [
    {
     "name": "stdout",
     "output_type": "stream",
     "text": [
      "(1, {'Name': 'Ram', 'NTC': 9856666266, 'NCELL': 980345678})\n",
      "(2, {'Name': 'Shyam', 'NTC': 985554598, 'NCELL': 9804371})\n",
      "(3, {'Name': 'Hari', 'NTC': 985894598, 'NCELL': 980984371})\n"
     ]
    }
   ],
   "source": [
    "for i in a.items():\n",
    "    print(i)"
   ]
  },
  {
   "cell_type": "code",
   "execution_count": 25,
   "id": "ce531293",
   "metadata": {},
   "outputs": [
    {
     "name": "stdout",
     "output_type": "stream",
     "text": [
      "{'Name': 'Ram', 'NTC': 9856666266, 'NCELL': 980345678}\n",
      "{'Name': 'Shyam', 'NTC': 985554598, 'NCELL': 9804371}\n",
      "{'Name': 'Hari', 'NTC': 985894598, 'NCELL': 980984371}\n"
     ]
    }
   ],
   "source": [
    "for i in a.values():\n",
    "    print(i)"
   ]
  },
  {
   "cell_type": "code",
   "execution_count": 27,
   "id": "27e70536",
   "metadata": {},
   "outputs": [
    {
     "name": "stdout",
     "output_type": "stream",
     "text": [
      "enterv n=2\n",
      "enter name=Ram\n",
      "enter ntc no=9823456789\n",
      "enetr ncell no=9861234567\n",
      "enter name=shyam\n",
      "enter ntc no=9812345678\n",
      "enetr ncell no=9862456789\n",
      "{1: {'Name': 'Ram', 'Ntc': 9823456789, 'Ncell': 9861234567}, 2: {'Name': 'shyam', 'Ntc': 9812345678, 'Ncell': 9862456789}}\n"
     ]
    }
   ],
   "source": [
    "#creat\n",
    "l={}\n",
    "n=int(input(\"enterv n=\"))\n",
    "for i in range(1,n+1):\n",
    "    name=input(\"enter name=\")\n",
    "    ntc=int(input(\"enter ntc no=\"))\n",
    "    ncell=int(input(\"enetr ncell no=\"))\n",
    "    d={'Name':name,'Ntc':ntc,'Ncell':ncell}\n",
    "    l[i]=d\n",
    "print(l)\n"
   ]
  },
  {
   "cell_type": "code",
   "execution_count": null,
   "id": "88eb3649",
   "metadata": {},
   "outputs": [],
   "source": []
  }
 ],
 "metadata": {
  "kernelspec": {
   "display_name": "Python 3",
   "language": "python",
   "name": "python3"
  },
  "language_info": {
   "codemirror_mode": {
    "name": "ipython",
    "version": 3
   },
   "file_extension": ".py",
   "mimetype": "text/x-python",
   "name": "python",
   "nbconvert_exporter": "python",
   "pygments_lexer": "ipython3",
   "version": "3.8.8"
  }
 },
 "nbformat": 4,
 "nbformat_minor": 5
}
