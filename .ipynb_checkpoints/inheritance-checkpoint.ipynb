{
 "cells": [
  {
   "cell_type": "code",
   "execution_count": null,
   "id": "5eed82c0",
   "metadata": {},
   "outputs": [],
   "source": [
    "# class A\n",
    "#       pass\n",
    "\n",
    "# class B(A):\n",
    "#     pass\n",
    "\n",
    "# obj=B()\n"
   ]
  },
  {
   "cell_type": "code",
   "execution_count": null,
   "id": "8a0e82bd",
   "metadata": {},
   "outputs": [],
   "source": []
  },
  {
   "cell_type": "code",
   "execution_count": null,
   "id": "0f4c5410",
   "metadata": {},
   "outputs": [],
   "source": []
  }
 ],
 "metadata": {
  "kernelspec": {
   "display_name": "Python 3",
   "language": "python",
   "name": "python3"
  },
  "language_info": {
   "codemirror_mode": {
    "name": "ipython",
    "version": 3
   },
   "file_extension": ".py",
   "mimetype": "text/x-python",
   "name": "python",
   "nbconvert_exporter": "python",
   "pygments_lexer": "ipython3",
   "version": "3.8.8"
  }
 },
 "nbformat": 4,
 "nbformat_minor": 5
}
