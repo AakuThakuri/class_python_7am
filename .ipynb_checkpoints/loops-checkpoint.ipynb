{
 "cells": [
  {
   "cell_type": "code",
   "execution_count": 14,
   "id": "df52f531",
   "metadata": {},
   "outputs": [
    {
     "name": "stdout",
     "output_type": "stream",
     "text": [
      "1\n",
      "1\n",
      "2\n",
      "3\n",
      "5\n",
      "8\n",
      "13\n"
     ]
    }
   ],
   "source": [
    "a=0\n",
    "b=1\n",
    "for i in range(7):\n",
    "    c=a+b\n",
    "    a=b\n",
    "    b=c\n",
    "    \n",
    "    print(a)\n",
    "    "
   ]
  },
  {
   "cell_type": "code",
   "execution_count": null,
   "id": "d2255d26",
   "metadata": {},
   "outputs": [],
   "source": [
    "#forloop\n",
    "#while loop\n"
   ]
  },
  {
   "cell_type": "code",
   "execution_count": 1,
   "id": "8a849ff9",
   "metadata": {},
   "outputs": [
    {
     "name": "stdout",
     "output_type": "stream",
     "text": [
      "0\n",
      "1\n",
      "2\n",
      "3\n",
      "4\n"
     ]
    }
   ],
   "source": [
    "#range(5)\n",
    "#range(1,5)\n",
    "#range(1,5,2)\n",
    "for i in range(5):\n",
    "    print(i)\n"
   ]
  },
  {
   "cell_type": "code",
   "execution_count": 3,
   "id": "4087760a",
   "metadata": {},
   "outputs": [
    {
     "name": "stdout",
     "output_type": "stream",
     "text": [
      "hello world 0\n",
      "hello world 1\n",
      "hello world 2\n",
      "hello world 3\n",
      "hello world 4\n"
     ]
    }
   ],
   "source": [
    "for i in range(5):\n",
    "    print(\"hello world\", i)"
   ]
  },
  {
   "cell_type": "code",
   "execution_count": 5,
   "id": "47b0040a",
   "metadata": {},
   "outputs": [
    {
     "name": "stdout",
     "output_type": "stream",
     "text": [
      "hello world 1\n",
      "hello world 2\n",
      "hello world 3\n",
      "hello world 4\n"
     ]
    }
   ],
   "source": [
    "for i in range(1,5):                      #i=1 i<5 i=i+1\n",
    "    print(\"hello world\", i)"
   ]
  },
  {
   "cell_type": "code",
   "execution_count": 6,
   "id": "ffdeaec2",
   "metadata": {},
   "outputs": [
    {
     "name": "stdout",
     "output_type": "stream",
     "text": [
      "hello world 1\n",
      "hello world 3\n",
      "hello world 5\n",
      "hello world 7\n",
      "hello world 9\n"
     ]
    }
   ],
   "source": [
    "for i in range(1,10,2):                  #i=1 i<10 i=i+2\n",
    "    print(\"hello world\", i)"
   ]
  },
  {
   "cell_type": "code",
   "execution_count": 7,
   "id": "7ae55ab1",
   "metadata": {},
   "outputs": [
    {
     "name": "stdout",
     "output_type": "stream",
     "text": [
      "enter n=5\n",
      "5\n",
      "10\n",
      "15\n",
      "20\n",
      "25\n",
      "30\n",
      "35\n",
      "40\n",
      "45\n",
      "50\n"
     ]
    }
   ],
   "source": [
    "n=int(input(\"enter n=\"))\n",
    "for i in range(1,11):\n",
    "    print(n*i)"
   ]
  },
  {
   "cell_type": "code",
   "execution_count": 8,
   "id": "bd69350e",
   "metadata": {},
   "outputs": [
    {
     "name": "stdout",
     "output_type": "stream",
     "text": [
      "enter n=5\n",
      "5 * 1 = 5\n",
      "5 * 2 = 10\n",
      "5 * 3 = 15\n",
      "5 * 4 = 20\n",
      "5 * 5 = 25\n",
      "5 * 6 = 30\n",
      "5 * 7 = 35\n",
      "5 * 8 = 40\n",
      "5 * 9 = 45\n",
      "5 * 10 = 50\n"
     ]
    }
   ],
   "source": [
    "n=int(input(\"enter n=\"))\n",
    "for i in range(1,11):\n",
    "    print(n,\"*\",i ,\"=\",n*i)"
   ]
  },
  {
   "cell_type": "code",
   "execution_count": null,
   "id": "c06d4b87",
   "metadata": {},
   "outputs": [],
   "source": []
  }
 ],
 "metadata": {
  "kernelspec": {
   "display_name": "Python 3",
   "language": "python",
   "name": "python3"
  },
  "language_info": {
   "codemirror_mode": {
    "name": "ipython",
    "version": 3
   },
   "file_extension": ".py",
   "mimetype": "text/x-python",
   "name": "python",
   "nbconvert_exporter": "python",
   "pygments_lexer": "ipython3",
   "version": "3.8.8"
  }
 },
 "nbformat": 4,
 "nbformat_minor": 5
}
